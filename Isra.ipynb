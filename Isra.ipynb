{
  "nbformat": 4,
  "nbformat_minor": 0,
  "metadata": {
    "colab": {
      "name": "Isra.ipynb",
      "provenance": [],
      "collapsed_sections": [],
      "include_colab_link": true
    },
    "kernelspec": {
      "name": "python3",
      "display_name": "Python 3"
    },
    "accelerator": "GPU"
  },
  "cells": [
    {
      "cell_type": "markdown",
      "metadata": {
        "id": "view-in-github",
        "colab_type": "text"
      },
      "source": [
        "<a href=\"https://colab.research.google.com/github/IsraelMelMon/CustomTrain-MobileNetV2/blob/master/Isra.ipynb\" target=\"_parent\"><img src=\"https://colab.research.google.com/assets/colab-badge.svg\" alt=\"Open In Colab\"/></a>"
      ]
    },
    {
      "cell_type": "markdown",
      "metadata": {
        "id": "s0X1u6MqxlHb",
        "colab_type": "text"
      },
      "source": [
        "# Train your custom MobileNetV2"
      ]
    },
    {
      "cell_type": "markdown",
      "metadata": {
        "id": "MBQXCfwJ5chn",
        "colab_type": "text"
      },
      "source": [
        "First, we give Google Colab permission to access Google Drive, and so, you must be signed-in to a [Google Drive](https://drive.google.com) account. "
      ]
    },
    {
      "cell_type": "code",
      "metadata": {
        "id": "hBXR6TA_HCxz",
        "colab_type": "code",
        "colab": {
          "base_uri": "https://localhost:8080/",
          "height": 34
        },
        "outputId": "daa1503f-6a5d-40ac-9d27-b6511120591a"
      },
      "source": [
        "from google.colab import drive \n",
        "drive.mount('/content/drive/', force_remount=True)"
      ],
      "execution_count": null,
      "outputs": [
        {
          "output_type": "stream",
          "text": [
            "Mounted at /content/drive/\n"
          ],
          "name": "stdout"
        }
      ]
    },
    {
      "cell_type": "markdown",
      "metadata": {
        "id": "WL04Y_yHL0NV",
        "colab_type": "text"
      },
      "source": [
        "We then move on to download the repository for an example. See the original Github repository [here](https://github.com/IsraelMelMon/CustomTrain-MobileNetV2)."
      ]
    },
    {
      "cell_type": "code",
      "metadata": {
        "id": "n7XgcnMvLAH-",
        "colab_type": "code",
        "colab": {
          "base_uri": "https://localhost:8080/",
          "height": 34
        },
        "outputId": "8052ee4a-bf9a-4a3d-ff40-9b9cffb39b7d"
      },
      "source": [
        "cd drive/My Drive/"
      ],
      "execution_count": null,
      "outputs": [
        {
          "output_type": "stream",
          "text": [
            "/content/drive/My Drive\n"
          ],
          "name": "stdout"
        }
      ]
    },
    {
      "cell_type": "code",
      "metadata": {
        "id": "5NDU5QO3K-0y",
        "colab_type": "code",
        "colab": {
          "base_uri": "https://localhost:8080/",
          "height": 119
        },
        "outputId": "4e798a10-35f9-4149-8a93-0de95beacc1c"
      },
      "source": [
        "!git clone https://github.com/IsraelMelMon/CustomTrain-MobileNetV2.git"
      ],
      "execution_count": null,
      "outputs": [
        {
          "output_type": "stream",
          "text": [
            "Cloning into 'CustomTrain-MobileNetV2'...\n",
            "remote: Enumerating objects: 86, done.\u001b[K\n",
            "remote: Counting objects: 100% (86/86), done.\u001b[K\n",
            "remote: Compressing objects: 100% (84/84), done.\u001b[K\n",
            "remote: Total 86 (delta 7), reused 0 (delta 0), pack-reused 0\u001b[K\n",
            "Unpacking objects: 100% (86/86), done.\n"
          ],
          "name": "stdout"
        }
      ]
    },
    {
      "cell_type": "markdown",
      "metadata": {
        "id": "_veQeV6mdBqW",
        "colab_type": "text"
      },
      "source": [
        "We go into the repository folder"
      ]
    },
    {
      "cell_type": "code",
      "metadata": {
        "id": "snjYMJsKcqdf",
        "colab_type": "code",
        "colab": {
          "base_uri": "https://localhost:8080/",
          "height": 34
        },
        "outputId": "cb9412b0-5e1a-4343-e005-bda5d08a08e9"
      },
      "source": [
        "cd CustomTrain-MobileNetV2"
      ],
      "execution_count": null,
      "outputs": [
        {
          "output_type": "stream",
          "text": [
            "/content/drive/My Drive/CustomTrain-MobileNetV2\n"
          ],
          "name": "stdout"
        }
      ]
    },
    {
      "cell_type": "code",
      "metadata": {
        "id": "Z7o68V4zcvdZ",
        "colab_type": "code",
        "colab": {
          "base_uri": "https://localhost:8080/",
          "height": 34
        },
        "outputId": "2223c914-35b4-4950-d226-292357c85810"
      },
      "source": [
        "ls"
      ],
      "execution_count": null,
      "outputs": [
        {
          "output_type": "stream",
          "text": [
            "auto_setup.py  \u001b[0m\u001b[01;34mclasses\u001b[0m/  README.md  \u001b[01;34mscripts\u001b[0m/\n"
          ],
          "name": "stdout"
        }
      ]
    },
    {
      "cell_type": "markdown",
      "metadata": {
        "id": "iI7CoEBm5A6Y",
        "colab_type": "text"
      },
      "source": [
        "The repository automatically downloads a folder in your Google Drive named \"**CustomTrain-MobileNetV2/classes**\" that contains the same number of folders as there are classes with images that are already classified.\n",
        " >/content/drive/My Drive/CustomTrain-MobileNetV2/classes\n",
        "\n"
      ]
    },
    {
      "cell_type": "markdown",
      "metadata": {
        "id": "mak2DW605R2Z",
        "colab_type": "text"
      },
      "source": [
        "When adding your own images, each class should be a sub-folder contained in the **classes** folder. \n",
        "The example given in the repository has two classes (although N different classes are supported) **IMPORTANT: Each image name should contain the class it corresponds to, for example:**\n"
      ]
    },
    {
      "cell_type": "markdown",
      "metadata": {
        "id": "sTUrEGvk0z69",
        "colab_type": "text"
      },
      "source": [
        "*/content/drive/My Drive/CustomTrain-MobileNetV2/*\n",
        "```sh\n",
        "├── CustomTrain-MobileNetV2\n",
        "  ├── README.md\n",
        "  ├── config_files\n",
        "  ├── auto_config.py\n",
        "  ├── classes\n",
        "    ├── class_A\n",
        "       ├── class_A_1.png\n",
        "       ├── class_A_2.png\n",
        "       ├── class_A_3.png\n",
        "       ├── ...\n",
        "       └── class_A_28.png\n",
        "    └── class_B\n",
        "        ├── class_B_1.png\n",
        "        ├── class_B_2.png\n",
        "        ├── class_B_3.png\n",
        "        ├── ...\n",
        "        └── class_B_30.png\n",
        "```"
      ]
    },
    {
      "cell_type": "markdown",
      "metadata": {
        "id": "Y2VaRzkuRKsc",
        "colab_type": "text"
      },
      "source": [
        "All the images in the folder **class_A** must have **class_A** anywhere in their name, and so forth."
      ]
    },
    {
      "cell_type": "markdown",
      "metadata": {
        "id": "jaOPZ5B9WeVU",
        "colab_type": "text"
      },
      "source": [
        "Let's run the initial configuration file."
      ]
    },
    {
      "cell_type": "code",
      "metadata": {
        "id": "V32FY8g5dKRW",
        "colab_type": "code",
        "colab": {
          "base_uri": "https://localhost:8080/",
          "height": 34
        },
        "outputId": "da543b21-c92b-442b-acf9-d434d0e17e92"
      },
      "source": [
        "!ls"
      ],
      "execution_count": null,
      "outputs": [
        {
          "output_type": "stream",
          "text": [
            "auto_setup.py  classes\tREADME.md  scripts\n"
          ],
          "name": "stdout"
        }
      ]
    },
    {
      "cell_type": "code",
      "metadata": {
        "id": "nGWP13iTWcAz",
        "colab_type": "code",
        "colab": {
          "base_uri": "https://localhost:8080/",
          "height": 54
        },
        "outputId": "bec41569-c6ab-4b9d-cf9f-5aed3989dcde"
      },
      "source": [
        "!python '/content/drive/My Drive/CustomTrain-MobileNetV2/auto_setup.py' "
      ],
      "execution_count": null,
      "outputs": [
        {
          "output_type": "stream",
          "text": [
            "['class_A/class_A_1.png', 'class_A/class_A_10.png', 'class_A/class_A_11.png', 'class_A/class_A_12.png', 'class_A/class_A_13.png', 'class_A/class_A_14.png', 'class_A/class_A_15.png', 'class_A/class_A_16.png', 'class_A/class_A_17.png', 'class_A/class_A_18.png', 'class_A/class_A_19.png', 'class_A/class_A_2.png', 'class_A/class_A_20.png', 'class_A/class_A_21.png', 'class_A/class_A_22.png', 'class_A/class_A_23.png', 'class_A/class_A_24.png', 'class_A/class_A_25.png', 'class_A/class_A_26.png', 'class_A/class_A_27.png', 'class_A/class_A_28.png', 'class_A/class_A_3.png', 'class_A/class_A_4.png', 'class_A/class_A_5.png', 'class_A/class_A_6.png', 'class_A/class_A_7.png', 'class_A/class_A_8.png', 'class_A/class_A_9.png', 'class_B/class_B_1.png', 'class_B/class_B_10.png', 'class_B/class_B_11.png', 'class_B/class_B_12.png', 'class_B/class_B_13.png', 'class_B/class_B_14.png', 'class_B/class_B_15.png', 'class_B/class_B_16.png', 'class_B/class_B_17.png', 'class_B/class_B_18.png', 'class_B/class_B_19.png', 'class_B/class_B_2.png', 'class_B/class_B_20.png', 'class_B/class_B_21.png', 'class_B/class_B_22.png', 'class_B/class_B_23.png', 'class_B/class_B_24.png', 'class_B/class_B_25.png', 'class_B/class_B_26.png', 'class_B/class_B_27.png', 'class_B/class_B_28.png', 'class_B/class_B_29.png', 'class_B/class_B_3.png', 'class_B/class_B_30.png', 'class_B/class_B_4.png', 'class_B/class_B_5.png', 'class_B/class_B_6.png', 'class_B/class_B_7.png', 'class_B/class_B_8.png', 'class_B/class_B_9.png']\n"
          ],
          "name": "stdout"
        }
      ]
    },
    {
      "cell_type": "markdown",
      "metadata": {
        "id": "EIJ966MdxcPv",
        "colab_type": "text"
      },
      "source": [
        "By default, the training path is **/content/drive/My Drive/CustomTrain-MobileNetV2/classes/**, the learning rate is **1e-4**, batch size is **2**, training epochs are **50** and the output model name is **mbnv2.h5**."
      ]
    },
    {
      "cell_type": "markdown",
      "metadata": {
        "id": "rzA60Tw9VkLz",
        "colab_type": "text"
      },
      "source": [
        "To change this if you run the configuration file with other arguments as:"
      ]
    },
    {
      "cell_type": "code",
      "metadata": {
        "id": "71txHvgFVpPf",
        "colab_type": "code",
        "colab": {}
      },
      "source": [
        "#!python '/content/drive/My Drive/CustomTrain-MobileNetV2/auto_config.py' 'other/path/to/classes/' 50 0.004 32 model_name"
      ],
      "execution_count": null,
      "outputs": []
    },
    {
      "cell_type": "markdown",
      "metadata": {
        "id": "O6mmLuj-WlvH",
        "colab_type": "text"
      },
      "source": [
        "Let's now run the training script:"
      ]
    },
    {
      "cell_type": "code",
      "metadata": {
        "id": "zPqbIBPp0kye",
        "colab_type": "code",
        "colab": {
          "base_uri": "https://localhost:8080/",
          "height": 1000
        },
        "outputId": "fc191bda-7f0f-47c1-a868-234aff046d92"
      },
      "source": [
        "!python '/content/drive/My Drive/CustomTrain-MobileNetV2/scripts/train.py' "
      ],
      "execution_count": null,
      "outputs": [
        {
          "output_type": "stream",
          "text": [
            "2020-09-18 09:55:27.592652: I tensorflow/stream_executor/platform/default/dso_loader.cc:48] Successfully opened dynamic library libcudart.so.10.1\n",
            "['class_A', 'class_B']\n",
            "WARNING:tensorflow:`input_shape` is undefined or non-square, or `rows` is not in [96, 128, 160, 192, 224]. Weights for input shape (224, 224) will be loaded as the default.\n",
            "2020-09-18 09:55:28.879262: I tensorflow/stream_executor/platform/default/dso_loader.cc:48] Successfully opened dynamic library libcuda.so.1\n",
            "2020-09-18 09:55:28.913343: I tensorflow/stream_executor/cuda/cuda_gpu_executor.cc:982] successful NUMA node read from SysFS had negative value (-1), but there must be at least one NUMA node, so returning NUMA node zero\n",
            "2020-09-18 09:55:28.914278: I tensorflow/core/common_runtime/gpu/gpu_device.cc:1716] Found device 0 with properties: \n",
            "pciBusID: 0000:00:04.0 name: Tesla T4 computeCapability: 7.5\n",
            "coreClock: 1.59GHz coreCount: 40 deviceMemorySize: 14.73GiB deviceMemoryBandwidth: 298.08GiB/s\n",
            "2020-09-18 09:55:28.914351: I tensorflow/stream_executor/platform/default/dso_loader.cc:48] Successfully opened dynamic library libcudart.so.10.1\n",
            "2020-09-18 09:55:28.917440: I tensorflow/stream_executor/platform/default/dso_loader.cc:48] Successfully opened dynamic library libcublas.so.10\n",
            "2020-09-18 09:55:28.919155: I tensorflow/stream_executor/platform/default/dso_loader.cc:48] Successfully opened dynamic library libcufft.so.10\n",
            "2020-09-18 09:55:28.919533: I tensorflow/stream_executor/platform/default/dso_loader.cc:48] Successfully opened dynamic library libcurand.so.10\n",
            "2020-09-18 09:55:28.921689: I tensorflow/stream_executor/platform/default/dso_loader.cc:48] Successfully opened dynamic library libcusolver.so.10\n",
            "2020-09-18 09:55:28.923209: I tensorflow/stream_executor/platform/default/dso_loader.cc:48] Successfully opened dynamic library libcusparse.so.10\n",
            "2020-09-18 09:55:28.927956: I tensorflow/stream_executor/platform/default/dso_loader.cc:48] Successfully opened dynamic library libcudnn.so.7\n",
            "2020-09-18 09:55:28.928107: I tensorflow/stream_executor/cuda/cuda_gpu_executor.cc:982] successful NUMA node read from SysFS had negative value (-1), but there must be at least one NUMA node, so returning NUMA node zero\n",
            "2020-09-18 09:55:28.928910: I tensorflow/stream_executor/cuda/cuda_gpu_executor.cc:982] successful NUMA node read from SysFS had negative value (-1), but there must be at least one NUMA node, so returning NUMA node zero\n",
            "2020-09-18 09:55:28.929427: I tensorflow/core/common_runtime/gpu/gpu_device.cc:1858] Adding visible gpu devices: 0\n",
            "2020-09-18 09:55:28.934869: I tensorflow/core/platform/profile_utils/cpu_utils.cc:104] CPU Frequency: 2200000000 Hz\n",
            "2020-09-18 09:55:28.935036: I tensorflow/compiler/xla/service/service.cc:168] XLA service 0x2076f40 initialized for platform Host (this does not guarantee that XLA will be used). Devices:\n",
            "2020-09-18 09:55:28.935063: I tensorflow/compiler/xla/service/service.cc:176]   StreamExecutor device (0): Host, Default Version\n",
            "2020-09-18 09:55:29.037950: I tensorflow/stream_executor/cuda/cuda_gpu_executor.cc:982] successful NUMA node read from SysFS had negative value (-1), but there must be at least one NUMA node, so returning NUMA node zero\n",
            "2020-09-18 09:55:29.038619: I tensorflow/compiler/xla/service/service.cc:168] XLA service 0x2077100 initialized for platform CUDA (this does not guarantee that XLA will be used). Devices:\n",
            "2020-09-18 09:55:29.038653: I tensorflow/compiler/xla/service/service.cc:176]   StreamExecutor device (0): Tesla T4, Compute Capability 7.5\n",
            "2020-09-18 09:55:29.038911: I tensorflow/stream_executor/cuda/cuda_gpu_executor.cc:982] successful NUMA node read from SysFS had negative value (-1), but there must be at least one NUMA node, so returning NUMA node zero\n",
            "2020-09-18 09:55:29.039431: I tensorflow/core/common_runtime/gpu/gpu_device.cc:1716] Found device 0 with properties: \n",
            "pciBusID: 0000:00:04.0 name: Tesla T4 computeCapability: 7.5\n",
            "coreClock: 1.59GHz coreCount: 40 deviceMemorySize: 14.73GiB deviceMemoryBandwidth: 298.08GiB/s\n",
            "2020-09-18 09:55:29.039493: I tensorflow/stream_executor/platform/default/dso_loader.cc:48] Successfully opened dynamic library libcudart.so.10.1\n",
            "2020-09-18 09:55:29.039542: I tensorflow/stream_executor/platform/default/dso_loader.cc:48] Successfully opened dynamic library libcublas.so.10\n",
            "2020-09-18 09:55:29.039567: I tensorflow/stream_executor/platform/default/dso_loader.cc:48] Successfully opened dynamic library libcufft.so.10\n",
            "2020-09-18 09:55:29.039591: I tensorflow/stream_executor/platform/default/dso_loader.cc:48] Successfully opened dynamic library libcurand.so.10\n",
            "2020-09-18 09:55:29.039618: I tensorflow/stream_executor/platform/default/dso_loader.cc:48] Successfully opened dynamic library libcusolver.so.10\n",
            "2020-09-18 09:55:29.039640: I tensorflow/stream_executor/platform/default/dso_loader.cc:48] Successfully opened dynamic library libcusparse.so.10\n",
            "2020-09-18 09:55:29.039662: I tensorflow/stream_executor/platform/default/dso_loader.cc:48] Successfully opened dynamic library libcudnn.so.7\n",
            "2020-09-18 09:55:29.039755: I tensorflow/stream_executor/cuda/cuda_gpu_executor.cc:982] successful NUMA node read from SysFS had negative value (-1), but there must be at least one NUMA node, so returning NUMA node zero\n",
            "2020-09-18 09:55:29.040287: I tensorflow/stream_executor/cuda/cuda_gpu_executor.cc:982] successful NUMA node read from SysFS had negative value (-1), but there must be at least one NUMA node, so returning NUMA node zero\n",
            "2020-09-18 09:55:29.040789: I tensorflow/core/common_runtime/gpu/gpu_device.cc:1858] Adding visible gpu devices: 0\n",
            "2020-09-18 09:55:29.040869: I tensorflow/stream_executor/platform/default/dso_loader.cc:48] Successfully opened dynamic library libcudart.so.10.1\n",
            "2020-09-18 09:55:29.626318: I tensorflow/core/common_runtime/gpu/gpu_device.cc:1257] Device interconnect StreamExecutor with strength 1 edge matrix:\n",
            "2020-09-18 09:55:29.626376: I tensorflow/core/common_runtime/gpu/gpu_device.cc:1263]      0 \n",
            "2020-09-18 09:55:29.626399: I tensorflow/core/common_runtime/gpu/gpu_device.cc:1276] 0:   N \n",
            "2020-09-18 09:55:29.626653: I tensorflow/stream_executor/cuda/cuda_gpu_executor.cc:982] successful NUMA node read from SysFS had negative value (-1), but there must be at least one NUMA node, so returning NUMA node zero\n",
            "2020-09-18 09:55:29.627266: I tensorflow/stream_executor/cuda/cuda_gpu_executor.cc:982] successful NUMA node read from SysFS had negative value (-1), but there must be at least one NUMA node, so returning NUMA node zero\n",
            "2020-09-18 09:55:29.627825: W tensorflow/core/common_runtime/gpu/gpu_bfc_allocator.cc:39] Overriding allow_growth setting because the TF_FORCE_GPU_ALLOW_GROWTH environment variable is set. Original config value was 0.\n",
            "2020-09-18 09:55:29.627868: I tensorflow/core/common_runtime/gpu/gpu_device.cc:1402] Created TensorFlow device (/job:localhost/replica:0/task:0/device:GPU:0 with 13962 MB memory) -> physical GPU (device: 0, name: Tesla T4, pci bus id: 0000:00:04.0, compute capability: 7.5)\n",
            "Model: \"functional_1\"\n",
            "__________________________________________________________________________________________________\n",
            "Layer (type)                    Output Shape         Param #     Connected to                     \n",
            "==================================================================================================\n",
            "input_1 (InputLayer)            [(None, None, None,  0                                            \n",
            "__________________________________________________________________________________________________\n",
            "mobilenetv2_1.00_224 (Functiona (None, None, None, 1 2257984     input_1[0][0]                    \n",
            "__________________________________________________________________________________________________\n",
            "dropout (Dropout)               (None, None, None, 1 0           mobilenetv2_1.00_224[0][0]       \n",
            "__________________________________________________________________________________________________\n",
            "global_max_pooling2d (GlobalMax (None, 1280)         0           dropout[0][0]                    \n",
            "__________________________________________________________________________________________________\n",
            "global_average_pooling2d (Globa (None, 1280)         0           dropout[0][0]                    \n",
            "__________________________________________________________________________________________________\n",
            "concatenate (Concatenate)       (None, 2560)         0           global_max_pooling2d[0][0]       \n",
            "                                                                 global_average_pooling2d[0][0]   \n",
            "__________________________________________________________________________________________________\n",
            "dropout_1 (Dropout)             (None, 2560)         0           concatenate[0][0]                \n",
            "__________________________________________________________________________________________________\n",
            "dense (Dense)                   (None, 2)            5122        dropout_1[0][0]                  \n",
            "==================================================================================================\n",
            "Total params: 2,263,106\n",
            "Trainable params: 2,228,994\n",
            "Non-trainable params: 34,112\n",
            "__________________________________________________________________________________________________\n",
            "WARNING:tensorflow:From /content/drive/My Drive/CustomTrain-MobileNetV2/scripts/train.py:59: Model.fit_generator (from tensorflow.python.keras.engine.training) is deprecated and will be removed in a future version.\n",
            "Instructions for updating:\n",
            "Please use Model.fit, which supports generators.\n",
            "Epoch 1/50\n",
            "2020-09-18 09:55:43.638145: I tensorflow/stream_executor/platform/default/dso_loader.cc:48] Successfully opened dynamic library libcublas.so.10\n",
            "2020-09-18 09:55:45.124200: I tensorflow/stream_executor/platform/default/dso_loader.cc:48] Successfully opened dynamic library libcudnn.so.7\n",
            "23/23 [==============================] - ETA: 0s - loss: 1.6481 - binary_accuracy: 0.7426\n",
            "Epoch 00001: val_loss improved from inf to 0.70859, saving model to mbnv2.h5\n",
            "23/23 [==============================] - 12s 534ms/step - loss: 1.6481 - binary_accuracy: 0.7426 - val_loss: 0.7086 - val_binary_accuracy: 0.6667\n",
            "Epoch 2/50\n",
            "23/23 [==============================] - ETA: 0s - loss: 0.3424 - binary_accuracy: 0.9413\n",
            "Epoch 00002: val_loss improved from 0.70859 to 0.67208, saving model to mbnv2.h5\n",
            "23/23 [==============================] - 8s 351ms/step - loss: 0.3424 - binary_accuracy: 0.9413 - val_loss: 0.6721 - val_binary_accuracy: 0.7500\n",
            "Epoch 3/50\n",
            "23/23 [==============================] - ETA: 0s - loss: 0.1495 - binary_accuracy: 0.9712\n",
            "Epoch 00003: val_loss did not improve from 0.67208\n",
            "23/23 [==============================] - 7s 322ms/step - loss: 0.1495 - binary_accuracy: 0.9712 - val_loss: 0.7413 - val_binary_accuracy: 0.7500\n",
            "Epoch 4/50\n",
            "23/23 [==============================] - ETA: 0s - loss: 0.1119 - binary_accuracy: 0.9702\n",
            "Epoch 00004: val_loss did not improve from 0.67208\n",
            "23/23 [==============================] - 8s 334ms/step - loss: 0.1119 - binary_accuracy: 0.9702 - val_loss: 1.0407 - val_binary_accuracy: 0.7083\n",
            "Epoch 5/50\n",
            "23/23 [==============================] - ETA: 0s - loss: 0.1093 - binary_accuracy: 0.9805\n",
            "Epoch 00005: val_loss did not improve from 0.67208\n",
            "23/23 [==============================] - 7s 318ms/step - loss: 0.1093 - binary_accuracy: 0.9805 - val_loss: 1.0505 - val_binary_accuracy: 0.7500\n",
            "Epoch 6/50\n",
            "23/23 [==============================] - ETA: 0s - loss: 0.0798 - binary_accuracy: 0.9885\n",
            "Epoch 00006: val_loss did not improve from 0.67208\n",
            "23/23 [==============================] - 8s 339ms/step - loss: 0.0798 - binary_accuracy: 0.9885 - val_loss: 1.0254 - val_binary_accuracy: 0.7917\n",
            "Epoch 7/50\n",
            "23/23 [==============================] - ETA: 0s - loss: 0.0340 - binary_accuracy: 0.9926\n",
            "Epoch 00007: val_loss did not improve from 0.67208\n",
            "23/23 [==============================] - 7s 323ms/step - loss: 0.0340 - binary_accuracy: 0.9926 - val_loss: 0.9439 - val_binary_accuracy: 0.7917\n",
            "Epoch 8/50\n",
            "23/23 [==============================] - ETA: 0s - loss: 0.0180 - binary_accuracy: 0.9962\n",
            "Epoch 00008: val_loss did not improve from 0.67208\n",
            "23/23 [==============================] - 8s 330ms/step - loss: 0.0180 - binary_accuracy: 0.9962 - val_loss: 0.9278 - val_binary_accuracy: 0.7917\n",
            "Epoch 9/50\n",
            "23/23 [==============================] - ETA: 0s - loss: 0.0431 - binary_accuracy: 0.9898\n",
            "Epoch 00009: val_loss did not improve from 0.67208\n",
            "23/23 [==============================] - 8s 328ms/step - loss: 0.0431 - binary_accuracy: 0.9898 - val_loss: 0.8101 - val_binary_accuracy: 0.7917\n",
            "Epoch 10/50\n",
            "23/23 [==============================] - ETA: 0s - loss: 0.0377 - binary_accuracy: 0.9904\n",
            "Epoch 00010: val_loss did not improve from 0.67208\n",
            "23/23 [==============================] - 8s 340ms/step - loss: 0.0377 - binary_accuracy: 0.9904 - val_loss: 0.8295 - val_binary_accuracy: 0.7917\n",
            "Epoch 11/50\n",
            "23/23 [==============================] - ETA: 0s - loss: 0.0179 - binary_accuracy: 0.9954\n",
            "Epoch 00011: val_loss did not improve from 0.67208\n",
            "23/23 [==============================] - 8s 339ms/step - loss: 0.0179 - binary_accuracy: 0.9954 - val_loss: 0.7844 - val_binary_accuracy: 0.8333\n",
            "Epoch 12/50\n",
            "23/23 [==============================] - ETA: 0s - loss: 4.9898e-04 - binary_accuracy: 1.0000\n",
            "Epoch 00012: val_loss did not improve from 0.67208\n",
            "23/23 [==============================] - 8s 339ms/step - loss: 4.9898e-04 - binary_accuracy: 1.0000 - val_loss: 0.7313 - val_binary_accuracy: 0.8333\n",
            "Epoch 13/50\n",
            "23/23 [==============================] - ETA: 0s - loss: 0.0040 - binary_accuracy: 0.9991\n",
            "Epoch 00013: val_loss did not improve from 0.67208\n",
            "23/23 [==============================] - 8s 347ms/step - loss: 0.0040 - binary_accuracy: 0.9991 - val_loss: 0.7044 - val_binary_accuracy: 0.8333\n",
            "Epoch 14/50\n",
            "23/23 [==============================] - ETA: 0s - loss: 0.0132 - binary_accuracy: 0.9981\n",
            "Epoch 00014: val_loss did not improve from 0.67208\n",
            "23/23 [==============================] - 8s 330ms/step - loss: 0.0132 - binary_accuracy: 0.9981 - val_loss: 0.6727 - val_binary_accuracy: 0.8333\n",
            "Epoch 15/50\n",
            "23/23 [==============================] - ETA: 0s - loss: 0.0170 - binary_accuracy: 0.9972\n",
            "Epoch 00015: val_loss improved from 0.67208 to 0.64917, saving model to mbnv2.h5\n",
            "23/23 [==============================] - 8s 361ms/step - loss: 0.0170 - binary_accuracy: 0.9972 - val_loss: 0.6492 - val_binary_accuracy: 0.8333\n",
            "Epoch 16/50\n",
            "23/23 [==============================] - ETA: 0s - loss: 0.0183 - binary_accuracy: 0.9971\n",
            "Epoch 00016: val_loss improved from 0.64917 to 0.62851, saving model to mbnv2.h5\n",
            "23/23 [==============================] - 8s 353ms/step - loss: 0.0183 - binary_accuracy: 0.9971 - val_loss: 0.6285 - val_binary_accuracy: 0.8333\n",
            "Epoch 17/50\n",
            "23/23 [==============================] - ETA: 0s - loss: 0.0280 - binary_accuracy: 0.9935\n",
            "Epoch 00017: val_loss improved from 0.62851 to 0.60045, saving model to mbnv2.h5\n",
            "23/23 [==============================] - 8s 369ms/step - loss: 0.0280 - binary_accuracy: 0.9935 - val_loss: 0.6004 - val_binary_accuracy: 0.8333\n",
            "Epoch 18/50\n",
            "23/23 [==============================] - ETA: 0s - loss: 0.0324 - binary_accuracy: 0.9942\n",
            "Epoch 00018: val_loss improved from 0.60045 to 0.58278, saving model to mbnv2.h5\n",
            "23/23 [==============================] - 8s 361ms/step - loss: 0.0324 - binary_accuracy: 0.9942 - val_loss: 0.5828 - val_binary_accuracy: 0.8333\n",
            "Epoch 19/50\n",
            "23/23 [==============================] - ETA: 0s - loss: 0.0281 - binary_accuracy: 0.9963\n",
            "Epoch 00019: val_loss improved from 0.58278 to 0.54630, saving model to mbnv2.h5\n",
            "23/23 [==============================] - 11s 496ms/step - loss: 0.0281 - binary_accuracy: 0.9963 - val_loss: 0.5463 - val_binary_accuracy: 0.8333\n",
            "Epoch 20/50\n",
            "23/23 [==============================] - ETA: 0s - loss: 0.0019 - binary_accuracy: 0.9990\n",
            "Epoch 00020: val_loss improved from 0.54630 to 0.51451, saving model to mbnv2.h5\n",
            "23/23 [==============================] - 8s 354ms/step - loss: 0.0019 - binary_accuracy: 0.9990 - val_loss: 0.5145 - val_binary_accuracy: 0.9167\n",
            "Epoch 21/50\n",
            "23/23 [==============================] - ETA: 0s - loss: 0.0012 - binary_accuracy: 1.0000\n",
            "Epoch 00021: val_loss improved from 0.51451 to 0.50576, saving model to mbnv2.h5\n",
            "23/23 [==============================] - 9s 373ms/step - loss: 0.0012 - binary_accuracy: 1.0000 - val_loss: 0.5058 - val_binary_accuracy: 0.9167\n",
            "Epoch 22/50\n",
            "23/23 [==============================] - ETA: 0s - loss: 0.0088 - binary_accuracy: 0.9971\n",
            "Epoch 00022: val_loss improved from 0.50576 to 0.48343, saving model to mbnv2.h5\n",
            "23/23 [==============================] - 8s 369ms/step - loss: 0.0088 - binary_accuracy: 0.9971 - val_loss: 0.4834 - val_binary_accuracy: 0.9167\n",
            "Epoch 23/50\n",
            "23/23 [==============================] - ETA: 0s - loss: 0.0064 - binary_accuracy: 0.9972\n",
            "Epoch 00023: val_loss improved from 0.48343 to 0.46469, saving model to mbnv2.h5\n",
            "23/23 [==============================] - 8s 368ms/step - loss: 0.0064 - binary_accuracy: 0.9972 - val_loss: 0.4647 - val_binary_accuracy: 0.9167\n",
            "Epoch 24/50\n",
            "23/23 [==============================] - ETA: 0s - loss: 7.1780e-04 - binary_accuracy: 1.0000\n",
            "Epoch 00024: val_loss improved from 0.46469 to 0.44466, saving model to mbnv2.h5\n",
            "23/23 [==============================] - 8s 368ms/step - loss: 7.1780e-04 - binary_accuracy: 1.0000 - val_loss: 0.4447 - val_binary_accuracy: 0.9167\n",
            "Epoch 25/50\n",
            "23/23 [==============================] - ETA: 0s - loss: 0.0077 - binary_accuracy: 0.9972\n",
            "Epoch 00025: val_loss improved from 0.44466 to 0.42923, saving model to mbnv2.h5\n",
            "23/23 [==============================] - 8s 367ms/step - loss: 0.0077 - binary_accuracy: 0.9972 - val_loss: 0.4292 - val_binary_accuracy: 0.9167\n",
            "Epoch 26/50\n",
            "23/23 [==============================] - ETA: 0s - loss: 0.0123 - binary_accuracy: 0.9990\n",
            "Epoch 00026: val_loss improved from 0.42923 to 0.42028, saving model to mbnv2.h5\n",
            "23/23 [==============================] - 8s 358ms/step - loss: 0.0123 - binary_accuracy: 0.9990 - val_loss: 0.4203 - val_binary_accuracy: 0.9167\n",
            "Epoch 27/50\n",
            "23/23 [==============================] - ETA: 0s - loss: 4.9408e-05 - binary_accuracy: 1.0000\n",
            "Epoch 00027: val_loss improved from 0.42028 to 0.41278, saving model to mbnv2.h5\n",
            "23/23 [==============================] - 8s 364ms/step - loss: 4.9408e-05 - binary_accuracy: 1.0000 - val_loss: 0.4128 - val_binary_accuracy: 0.9167\n",
            "Epoch 28/50\n",
            "23/23 [==============================] - ETA: 0s - loss: 0.0264 - binary_accuracy: 0.9952\n",
            "Epoch 00028: val_loss improved from 0.41278 to 0.40514, saving model to mbnv2.h5\n",
            "23/23 [==============================] - 8s 357ms/step - loss: 0.0264 - binary_accuracy: 0.9952 - val_loss: 0.4051 - val_binary_accuracy: 0.9167\n",
            "Epoch 29/50\n",
            "23/23 [==============================] - ETA: 0s - loss: 0.0043 - binary_accuracy: 0.9981\n",
            "Epoch 00029: val_loss improved from 0.40514 to 0.40044, saving model to mbnv2.h5\n",
            "23/23 [==============================] - 9s 372ms/step - loss: 0.0043 - binary_accuracy: 0.9981 - val_loss: 0.4004 - val_binary_accuracy: 0.9167\n",
            "Epoch 30/50\n",
            "23/23 [==============================] - ETA: 0s - loss: 0.0293 - binary_accuracy: 0.9971\n",
            "Epoch 00030: val_loss improved from 0.40044 to 0.37685, saving model to mbnv2.h5\n",
            "23/23 [==============================] - 8s 368ms/step - loss: 0.0293 - binary_accuracy: 0.9971 - val_loss: 0.3769 - val_binary_accuracy: 0.9167\n",
            "Epoch 31/50\n",
            "23/23 [==============================] - ETA: 0s - loss: 0.0019 - binary_accuracy: 0.9991\n",
            "Epoch 00031: val_loss improved from 0.37685 to 0.37036, saving model to mbnv2.h5\n",
            "23/23 [==============================] - 9s 373ms/step - loss: 0.0019 - binary_accuracy: 0.9991 - val_loss: 0.3704 - val_binary_accuracy: 0.9167\n",
            "Epoch 32/50\n",
            "23/23 [==============================] - ETA: 0s - loss: 7.3256e-04 - binary_accuracy: 1.0000\n",
            "Epoch 00032: val_loss improved from 0.37036 to 0.36970, saving model to mbnv2.h5\n",
            "23/23 [==============================] - 8s 363ms/step - loss: 7.3256e-04 - binary_accuracy: 1.0000 - val_loss: 0.3697 - val_binary_accuracy: 0.9167\n",
            "Epoch 33/50\n",
            "23/23 [==============================] - ETA: 0s - loss: 7.8155e-04 - binary_accuracy: 1.0000\n",
            "Epoch 00033: val_loss did not improve from 0.36970\n",
            "23/23 [==============================] - 7s 326ms/step - loss: 7.8155e-04 - binary_accuracy: 1.0000 - val_loss: 0.3699 - val_binary_accuracy: 0.9167\n",
            "Epoch 34/50\n",
            "23/23 [==============================] - ETA: 0s - loss: 0.0133 - binary_accuracy: 0.9962\n",
            "Epoch 00034: val_loss improved from 0.36970 to 0.35852, saving model to mbnv2.h5\n",
            "23/23 [==============================] - 8s 364ms/step - loss: 0.0133 - binary_accuracy: 0.9962 - val_loss: 0.3585 - val_binary_accuracy: 0.9167\n",
            "Epoch 35/50\n",
            "23/23 [==============================] - ETA: 0s - loss: 0.0136 - binary_accuracy: 0.9963\n",
            "Epoch 00035: val_loss improved from 0.35852 to 0.31384, saving model to mbnv2.h5\n",
            "23/23 [==============================] - 8s 354ms/step - loss: 0.0136 - binary_accuracy: 0.9963 - val_loss: 0.3138 - val_binary_accuracy: 0.9167\n",
            "Epoch 36/50\n",
            "23/23 [==============================] - ETA: 0s - loss: 0.0292 - binary_accuracy: 0.9933\n",
            "Epoch 00036: val_loss improved from 0.31384 to 0.27271, saving model to mbnv2.h5\n",
            "23/23 [==============================] - 9s 388ms/step - loss: 0.0292 - binary_accuracy: 0.9933 - val_loss: 0.2727 - val_binary_accuracy: 0.9167\n",
            "Epoch 37/50\n",
            "23/23 [==============================] - ETA: 0s - loss: 0.0152 - binary_accuracy: 0.9954\n",
            "Epoch 00037: val_loss improved from 0.27271 to 0.25977, saving model to mbnv2.h5\n",
            "23/23 [==============================] - 8s 352ms/step - loss: 0.0152 - binary_accuracy: 0.9954 - val_loss: 0.2598 - val_binary_accuracy: 0.9167\n",
            "Epoch 38/50\n",
            "23/23 [==============================] - ETA: 0s - loss: 0.0418 - binary_accuracy: 0.9942\n",
            "Epoch 00038: val_loss improved from 0.25977 to 0.25871, saving model to mbnv2.h5\n",
            "23/23 [==============================] - 9s 386ms/step - loss: 0.0418 - binary_accuracy: 0.9942 - val_loss: 0.2587 - val_binary_accuracy: 0.9167\n",
            "Epoch 39/50\n",
            "23/23 [==============================] - ETA: 0s - loss: 0.0127 - binary_accuracy: 0.9954\n",
            "Epoch 00039: val_loss improved from 0.25871 to 0.23729, saving model to mbnv2.h5\n",
            "23/23 [==============================] - 8s 352ms/step - loss: 0.0127 - binary_accuracy: 0.9954 - val_loss: 0.2373 - val_binary_accuracy: 0.9167\n",
            "Epoch 40/50\n",
            "23/23 [==============================] - ETA: 0s - loss: 0.0045 - binary_accuracy: 0.9990\n",
            "Epoch 00040: val_loss improved from 0.23729 to 0.22448, saving model to mbnv2.h5\n",
            "23/23 [==============================] - 9s 395ms/step - loss: 0.0045 - binary_accuracy: 0.9990 - val_loss: 0.2245 - val_binary_accuracy: 0.9167\n",
            "Epoch 41/50\n",
            "23/23 [==============================] - ETA: 0s - loss: 0.0313 - binary_accuracy: 0.9954\n",
            "Epoch 00041: val_loss improved from 0.22448 to 0.21940, saving model to mbnv2.h5\n",
            "23/23 [==============================] - 8s 366ms/step - loss: 0.0313 - binary_accuracy: 0.9954 - val_loss: 0.2194 - val_binary_accuracy: 0.9167\n",
            "Epoch 42/50\n",
            "23/23 [==============================] - ETA: 0s - loss: 0.0222 - binary_accuracy: 0.9952\n",
            "Epoch 00042: val_loss did not improve from 0.21940\n",
            "23/23 [==============================] - 8s 331ms/step - loss: 0.0222 - binary_accuracy: 0.9952 - val_loss: 0.2200 - val_binary_accuracy: 0.9167\n",
            "Epoch 43/50\n",
            "23/23 [==============================] - ETA: 0s - loss: 0.0287 - binary_accuracy: 0.9944\n",
            "Epoch 00043: val_loss improved from 0.21940 to 0.20900, saving model to mbnv2.h5\n",
            "23/23 [==============================] - 9s 384ms/step - loss: 0.0287 - binary_accuracy: 0.9944 - val_loss: 0.2090 - val_binary_accuracy: 0.9167\n",
            "Epoch 44/50\n",
            "23/23 [==============================] - ETA: 0s - loss: 0.0147 - binary_accuracy: 0.9962\n",
            "Epoch 00044: val_loss improved from 0.20900 to 0.19308, saving model to mbnv2.h5\n",
            "23/23 [==============================] - 8s 348ms/step - loss: 0.0147 - binary_accuracy: 0.9962 - val_loss: 0.1931 - val_binary_accuracy: 0.9167\n",
            "Epoch 45/50\n",
            "23/23 [==============================] - ETA: 0s - loss: 5.7764e-04 - binary_accuracy: 1.0000\n",
            "Epoch 00045: val_loss improved from 0.19308 to 0.18231, saving model to mbnv2.h5\n",
            "23/23 [==============================] - 8s 364ms/step - loss: 5.7764e-04 - binary_accuracy: 1.0000 - val_loss: 0.1823 - val_binary_accuracy: 0.9167\n",
            "Epoch 46/50\n",
            "23/23 [==============================] - ETA: 0s - loss: 0.0134 - binary_accuracy: 0.9990\n",
            "Epoch 00046: val_loss improved from 0.18231 to 0.17227, saving model to mbnv2.h5\n",
            "23/23 [==============================] - 8s 363ms/step - loss: 0.0134 - binary_accuracy: 0.9990 - val_loss: 0.1723 - val_binary_accuracy: 0.9167\n",
            "Epoch 47/50\n",
            "23/23 [==============================] - ETA: 0s - loss: 8.2094e-05 - binary_accuracy: 1.0000\n",
            "Epoch 00047: val_loss improved from 0.17227 to 0.17129, saving model to mbnv2.h5\n",
            "23/23 [==============================] - 8s 366ms/step - loss: 8.2094e-05 - binary_accuracy: 1.0000 - val_loss: 0.1713 - val_binary_accuracy: 0.9167\n",
            "Epoch 48/50\n",
            "23/23 [==============================] - ETA: 0s - loss: 0.0219 - binary_accuracy: 0.9962\n",
            "Epoch 00048: val_loss did not improve from 0.17129\n",
            "23/23 [==============================] - 8s 333ms/step - loss: 0.0219 - binary_accuracy: 0.9962 - val_loss: 0.1720 - val_binary_accuracy: 0.9167\n",
            "Epoch 49/50\n",
            "23/23 [==============================] - ETA: 0s - loss: 7.0371e-06 - binary_accuracy: 1.0000\n",
            "Epoch 00049: val_loss did not improve from 0.17129\n",
            "23/23 [==============================] - 8s 327ms/step - loss: 7.0371e-06 - binary_accuracy: 1.0000 - val_loss: 0.1747 - val_binary_accuracy: 0.9167\n",
            "Epoch 50/50\n",
            "23/23 [==============================] - ETA: 0s - loss: 0.0112 - binary_accuracy: 0.9971\n",
            "Epoch 00050: val_loss improved from 0.17129 to 0.15416, saving model to mbnv2.h5\n",
            "23/23 [==============================] - 9s 393ms/step - loss: 0.0112 - binary_accuracy: 0.9971 - val_loss: 0.1542 - val_binary_accuracy: 0.9167\n"
          ],
          "name": "stdout"
        }
      ]
    },
    {
      "cell_type": "code",
      "metadata": {
        "id": "-8Z4z1gxfKw-",
        "colab_type": "code",
        "colab": {
          "base_uri": "https://localhost:8080/",
          "height": 34
        },
        "outputId": "665d4a53-99e2-4f93-ca7e-550cc58bc87d"
      },
      "source": [
        "%ls"
      ],
      "execution_count": null,
      "outputs": [
        {
          "output_type": "stream",
          "text": [
            "auto_setup.py  \u001b[0m\u001b[01;34mclasses\u001b[0m/  \u001b[01;34mconfig_files\u001b[0m/  mbnv2.h5  README.md  \u001b[01;34mscripts\u001b[0m/\n"
          ],
          "name": "stdout"
        }
      ]
    },
    {
      "cell_type": "markdown",
      "metadata": {
        "id": "wbnFEYbqgZyc",
        "colab_type": "text"
      },
      "source": [
        "If the training loss does not lower (it must change at least 1e-6 in a range of 20 epochs) then the training automatically stops and saves the last weights and the network before the loss was stunned as \"**mbnv2.h5**\". This file can now be used for predictive inference."
      ]
    },
    {
      "cell_type": "markdown",
      "metadata": {
        "id": "QN5pFX8ab9Qo",
        "colab_type": "text"
      },
      "source": [
        "Download this file. THE END."
      ]
    },
    {
      "cell_type": "markdown",
      "metadata": {
        "id": "iC-iuIvycAKf",
        "colab_type": "text"
      },
      "source": [
        "Specify that also multi-class classification may be done by configuring the Train.py file. And also the use of the ResNet50, ResNet101, etc supported in Tensorflow 2.x"
      ]
    },
    {
      "cell_type": "code",
      "metadata": {
        "id": "EIOO2prvvqYx",
        "colab_type": "code",
        "colab": {
          "base_uri": "https://localhost:8080/",
          "height": 1000
        },
        "outputId": "35acddb9-63f3-49df-f774-11ccb052a656"
      },
      "source": [
        "!pip freeze\n"
      ],
      "execution_count": 13,
      "outputs": [
        {
          "output_type": "stream",
          "text": [
            "absl-py==0.10.0\n",
            "alabaster==0.7.12\n",
            "albumentations==0.1.12\n",
            "altair==4.1.0\n",
            "argon2-cffi==20.1.0\n",
            "asgiref==3.2.10\n",
            "astor==0.8.1\n",
            "astropy==4.0.1.post1\n",
            "astunparse==1.6.3\n",
            "async-generator==1.10\n",
            "atari-py==0.2.6\n",
            "atomicwrites==1.4.0\n",
            "attrs==20.2.0\n",
            "audioread==2.1.8\n",
            "autograd==1.3\n",
            "Babel==2.8.0\n",
            "backcall==0.2.0\n",
            "beautifulsoup4==4.6.3\n",
            "bleach==3.1.5\n",
            "blis==0.4.1\n",
            "bokeh==2.1.1\n",
            "boto==2.49.0\n",
            "boto3==1.14.59\n",
            "botocore==1.17.59\n",
            "Bottleneck==1.3.2\n",
            "branca==0.4.1\n",
            "bs4==0.0.1\n",
            "CacheControl==0.12.6\n",
            "cachetools==4.1.1\n",
            "catalogue==1.0.0\n",
            "certifi==2020.6.20\n",
            "cffi==1.14.2\n",
            "chainer==7.4.0\n",
            "chardet==3.0.4\n",
            "click==7.1.2\n",
            "cloudpickle==1.3.0\n",
            "cmake==3.12.0\n",
            "cmdstanpy==0.9.5\n",
            "colorlover==0.3.0\n",
            "community==1.0.0b1\n",
            "contextlib2==0.5.5\n",
            "convertdate==2.2.2\n",
            "coverage==3.7.1\n",
            "coveralls==0.5\n",
            "crcmod==1.7\n",
            "cufflinks==0.17.3\n",
            "cupy-cuda101==7.4.0\n",
            "cvxopt==1.2.5\n",
            "cvxpy==1.0.31\n",
            "cycler==0.10.0\n",
            "cymem==2.0.3\n",
            "Cython==0.29.21\n",
            "daft==0.0.4\n",
            "dask==2.12.0\n",
            "dataclasses==0.7\n",
            "datascience==0.10.6\n",
            "debugpy==1.0.0rc2\n",
            "decorator==4.4.2\n",
            "defusedxml==0.6.0\n",
            "descartes==1.1.0\n",
            "dill==0.3.2\n",
            "distributed==1.25.3\n",
            "Django==3.1.1\n",
            "dlib==19.18.0\n",
            "dm-tree==0.1.5\n",
            "docopt==0.6.2\n",
            "docutils==0.15.2\n",
            "dopamine-rl==1.0.5\n",
            "earthengine-api==0.1.234\n",
            "easydict==1.9\n",
            "ecos==2.0.7.post1\n",
            "editdistance==0.5.3\n",
            "en-core-web-sm==2.2.5\n",
            "entrypoints==0.3\n",
            "ephem==3.7.7.1\n",
            "et-xmlfile==1.0.1\n",
            "fa2==0.3.5\n",
            "fancyimpute==0.4.3\n",
            "fastai==1.0.61\n",
            "fastdtw==0.3.4\n",
            "fastprogress==1.0.0\n",
            "fastrlock==0.5\n",
            "fbprophet==0.7.1\n",
            "feather-format==0.4.1\n",
            "filelock==3.0.12\n",
            "firebase-admin==4.1.0\n",
            "fix-yahoo-finance==0.0.22\n",
            "Flask==1.1.2\n",
            "folium==0.8.3\n",
            "future==0.16.0\n",
            "gast==0.3.3\n",
            "GDAL==2.2.2\n",
            "gdown==3.6.4\n",
            "gensim==3.6.0\n",
            "geographiclib==1.50\n",
            "geopy==1.17.0\n",
            "gin-config==0.3.0\n",
            "glob2==0.7\n",
            "google==2.0.3\n",
            "google-api-core==1.16.0\n",
            "google-api-python-client==1.7.12\n",
            "google-auth==1.17.2\n",
            "google-auth-httplib2==0.0.4\n",
            "google-auth-oauthlib==0.4.1\n",
            "google-cloud-bigquery==1.21.0\n",
            "google-cloud-core==1.0.3\n",
            "google-cloud-datastore==1.8.0\n",
            "google-cloud-firestore==1.7.0\n",
            "google-cloud-language==1.2.0\n",
            "google-cloud-storage==1.18.1\n",
            "google-cloud-translate==1.5.0\n",
            "google-colab==1.0.0\n",
            "google-pasta==0.2.0\n",
            "google-resumable-media==0.4.1\n",
            "googleapis-common-protos==1.52.0\n",
            "googledrivedownloader==0.4\n",
            "graphviz==0.10.1\n",
            "grpcio==1.32.0\n",
            "gspread==3.0.1\n",
            "gspread-dataframe==3.0.8\n",
            "gym==0.17.2\n",
            "h5py==2.10.0\n",
            "HeapDict==1.0.1\n",
            "holidays==0.10.3\n",
            "holoviews==1.13.3\n",
            "html5lib==1.0.1\n",
            "httpimport==0.5.18\n",
            "httplib2==0.17.4\n",
            "httplib2shim==0.0.3\n",
            "humanize==0.5.1\n",
            "hyperopt==0.1.2\n",
            "ideep4py==2.0.0.post3\n",
            "idna==2.10\n",
            "image==1.5.32\n",
            "imageio==2.4.1\n",
            "imagesize==1.2.0\n",
            "imbalanced-learn==0.4.3\n",
            "imblearn==0.0\n",
            "imgaug==0.2.9\n",
            "importlib-metadata==1.7.0\n",
            "imutils==0.5.3\n",
            "inflect==2.1.0\n",
            "iniconfig==1.0.1\n",
            "intel-openmp==2020.0.133\n",
            "intervaltree==2.1.0\n",
            "ipykernel==4.10.1\n",
            "ipython==5.5.0\n",
            "ipython-genutils==0.2.0\n",
            "ipython-sql==0.3.9\n",
            "ipywidgets==7.5.1\n",
            "itsdangerous==1.1.0\n",
            "jax==0.1.75\n",
            "jaxlib==0.1.52\n",
            "jdcal==1.4.1\n",
            "jedi==0.17.2\n",
            "jieba==0.42.1\n",
            "Jinja2==2.11.2\n",
            "jmespath==0.10.0\n",
            "joblib==0.16.0\n",
            "jpeg4py==0.1.4\n",
            "jsonschema==2.6.0\n",
            "jupyter==1.0.0\n",
            "jupyter-client==5.3.5\n",
            "jupyter-console==5.2.0\n",
            "jupyter-core==4.6.3\n",
            "jupyterlab-pygments==0.1.1\n",
            "kaggle==1.5.8\n",
            "kapre==0.1.3.1\n",
            "Keras==2.4.3\n",
            "Keras-Preprocessing==1.1.2\n",
            "keras-vis==0.4.1\n",
            "kiwisolver==1.2.0\n",
            "knnimpute==0.1.0\n",
            "korean-lunar-calendar==0.2.1\n",
            "librosa==0.6.3\n",
            "lightgbm==2.2.3\n",
            "llvmlite==0.31.0\n",
            "lmdb==0.99\n",
            "lucid==0.3.8\n",
            "LunarCalendar==0.0.9\n",
            "lxml==4.2.6\n",
            "Markdown==3.2.2\n",
            "MarkupSafe==1.1.1\n",
            "matplotlib==3.2.2\n",
            "matplotlib-venn==0.11.5\n",
            "missingno==0.4.2\n",
            "mistune==0.8.4\n",
            "mizani==0.6.0\n",
            "mkl==2019.0\n",
            "mlxtend==0.14.0\n",
            "more-itertools==8.5.0\n",
            "moviepy==0.2.3.5\n",
            "mpmath==1.1.0\n",
            "msgpack==1.0.0\n",
            "multiprocess==0.70.10\n",
            "multitasking==0.0.9\n",
            "murmurhash==1.0.2\n",
            "music21==5.5.0\n",
            "natsort==5.5.0\n",
            "nbclient==0.5.0\n",
            "nbconvert==5.6.1\n",
            "nbformat==5.0.7\n",
            "nest-asyncio==1.4.0\n",
            "networkx==2.5\n",
            "nibabel==3.0.2\n",
            "nltk==3.2.5\n",
            "notebook==5.3.1\n",
            "np-utils==0.5.12.1\n",
            "numba==0.48.0\n",
            "numexpr==2.7.1\n",
            "numpy==1.18.5\n",
            "nvidia-ml-py3==7.352.0\n",
            "oauth2client==4.1.3\n",
            "oauthlib==3.1.0\n",
            "okgrade==0.4.3\n",
            "opencv-contrib-python==4.1.2.30\n",
            "opencv-python==4.1.2.30\n",
            "openpyxl==2.5.9\n",
            "opt-einsum==3.3.0\n",
            "osqp==0.6.1\n",
            "packaging==20.4\n",
            "palettable==3.3.0\n",
            "pandas==1.0.5\n",
            "pandas-datareader==0.8.1\n",
            "pandas-gbq==0.11.0\n",
            "pandas-profiling==1.4.1\n",
            "pandocfilters==1.4.2\n",
            "panel==0.9.7\n",
            "param==1.9.3\n",
            "parso==0.7.1\n",
            "pathlib==1.0.1\n",
            "patsy==0.5.1\n",
            "pexpect==4.8.0\n",
            "pickleshare==0.7.5\n",
            "Pillow==7.0.0\n",
            "pip-tools==4.5.1\n",
            "plac==1.1.3\n",
            "plotly==4.4.1\n",
            "plotnine==0.6.0\n",
            "pluggy==0.7.1\n",
            "portpicker==1.3.1\n",
            "prefetch-generator==1.0.1\n",
            "preshed==3.0.2\n",
            "prettytable==0.7.2\n",
            "progressbar2==3.38.0\n",
            "prometheus-client==0.8.0\n",
            "promise==2.3\n",
            "prompt-toolkit==1.0.18\n",
            "protobuf==3.12.4\n",
            "psutil==5.4.8\n",
            "psycopg2==2.7.6.1\n",
            "ptyprocess==0.6.0\n",
            "py==1.9.0\n",
            "pyarrow==0.14.1\n",
            "pyasn1==0.4.8\n",
            "pyasn1-modules==0.2.8\n",
            "pycocotools==2.0.2\n",
            "pycparser==2.20\n",
            "pyct==0.4.7\n",
            "pydata-google-auth==1.1.0\n",
            "pydot==1.3.0\n",
            "pydot-ng==2.0.0\n",
            "pydotplus==2.0.2\n",
            "PyDrive==1.3.1\n",
            "pyemd==0.5.1\n",
            "pyglet==1.5.0\n",
            "Pygments==2.6.1\n",
            "pygobject==3.26.1\n",
            "pymc3==3.7\n",
            "PyMeeus==0.3.7\n",
            "pymongo==3.11.0\n",
            "pymystem3==0.2.0\n",
            "PyOpenGL==3.1.5\n",
            "pyparsing==2.4.7\n",
            "pyrsistent==0.17.3\n",
            "pysndfile==1.3.8\n",
            "PySocks==1.7.1\n",
            "pystan==2.19.1.1\n",
            "pytest==3.6.4\n",
            "python-apt==1.6.5+ubuntu0.3\n",
            "python-chess==0.23.11\n",
            "python-dateutil==2.8.1\n",
            "python-louvain==0.14\n",
            "python-slugify==4.0.1\n",
            "python-utils==2.4.0\n",
            "pytz==2018.9\n",
            "pyviz-comms==0.7.6\n",
            "PyWavelets==1.1.1\n",
            "PyYAML==3.13\n",
            "pyzmq==19.0.2\n",
            "qtconsole==4.7.7\n",
            "QtPy==1.9.0\n",
            "regex==2019.12.20\n",
            "requests==2.23.0\n",
            "requests-oauthlib==1.3.0\n",
            "resampy==0.2.2\n",
            "retrying==1.3.3\n",
            "rpy2==3.2.7\n",
            "rsa==4.6\n",
            "s3transfer==0.3.3\n",
            "scikit-image==0.16.2\n",
            "scikit-learn==0.22.2.post1\n",
            "scipy==1.4.1\n",
            "screen-resolution-extra==0.0.0\n",
            "scs==2.1.2\n",
            "seaborn==0.10.1\n",
            "Send2Trash==1.5.0\n",
            "setuptools-git==1.2\n",
            "Shapely==1.7.1\n",
            "simplegeneric==0.8.1\n",
            "six==1.15.0\n",
            "sklearn==0.0\n",
            "sklearn-pandas==1.8.0\n",
            "slugify==0.0.1\n",
            "smart-open==2.1.1\n",
            "snowballstemmer==2.0.0\n",
            "sortedcontainers==2.2.2\n",
            "spacy==2.2.4\n",
            "Sphinx==1.8.5\n",
            "sphinxcontrib-serializinghtml==1.1.4\n",
            "sphinxcontrib-websupport==1.2.4\n",
            "SQLAlchemy==1.3.19\n",
            "sqlparse==0.3.1\n",
            "srsly==1.0.2\n",
            "statsmodels==0.10.2\n",
            "sympy==1.1.1\n",
            "tables==3.4.4\n",
            "tabulate==0.8.7\n",
            "tblib==1.7.0\n",
            "tensorboard==2.3.0\n",
            "tensorboard-plugin-wit==1.7.0\n",
            "tensorboardcolab==0.0.22\n",
            "tensorflow==2.3.0\n",
            "tensorflow-addons==0.8.3\n",
            "tensorflow-datasets==2.1.0\n",
            "tensorflow-estimator==2.3.0\n",
            "tensorflow-gcs-config==2.3.0\n",
            "tensorflow-hub==0.9.0\n",
            "tensorflow-metadata==0.24.0\n",
            "tensorflow-privacy==0.2.2\n",
            "tensorflow-probability==0.11.0\n",
            "termcolor==1.1.0\n",
            "terminado==0.8.3\n",
            "testpath==0.4.4\n",
            "text-unidecode==1.3\n",
            "textblob==0.15.3\n",
            "textgenrnn==1.4.1\n",
            "Theano==1.0.5\n",
            "thinc==7.4.0\n",
            "tifffile==2020.9.3\n",
            "toml==0.10.1\n",
            "toolz==0.10.0\n",
            "torch==1.6.0+cu101\n",
            "torchsummary==1.5.1\n",
            "torchtext==0.3.1\n",
            "torchvision==0.7.0+cu101\n",
            "tornado==5.1.1\n",
            "tqdm==4.41.1\n",
            "traitlets==4.3.3\n",
            "tweepy==3.6.0\n",
            "typeguard==2.7.1\n",
            "typing-extensions==3.7.4.3\n",
            "tzlocal==1.5.1\n",
            "umap-learn==0.4.6\n",
            "uritemplate==3.0.1\n",
            "urllib3==1.24.3\n",
            "vega-datasets==0.8.0\n",
            "wasabi==0.8.0\n",
            "wcwidth==0.2.5\n",
            "webencodings==0.5.1\n",
            "Werkzeug==1.0.1\n",
            "widgetsnbextension==3.5.1\n",
            "wordcloud==1.5.0\n",
            "wrapt==1.12.1\n",
            "xarray==0.15.1\n",
            "xgboost==0.90\n",
            "xkit==0.0.0\n",
            "xlrd==1.1.0\n",
            "xlwt==1.3.0\n",
            "yellowbrick==0.9.1\n",
            "zict==2.0.0\n",
            "zipp==3.1.0\n"
          ],
          "name": "stdout"
        }
      ]
    },
    {
      "cell_type": "markdown",
      "metadata": {
        "id": "mav_u_aqcO3a",
        "colab_type": "text"
      },
      "source": [
        "Make the Loss and training graphs downloadable as well."
      ]
    }
  ]
}